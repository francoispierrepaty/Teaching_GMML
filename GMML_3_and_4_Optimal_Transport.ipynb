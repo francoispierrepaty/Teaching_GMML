{
 "cells": [
  {
   "cell_type": "markdown",
   "metadata": {},
   "source": [
    "# Optimal Transport and Wasserstein Distances"
   ]
  },
  {
   "cell_type": "markdown",
   "metadata": {},
   "source": [
    "The goal of this class is to introduce computational optimal transport, and implement some applications of optimal transport in machine learning.\n",
    "\n",
    "In the first part of the class, you will familiarize yourself with optimal transport and learn to compute optimal transport distances (also called Wasserstein distances).\n",
    "\n",
    "In the second part of the class, you will use optimal transport as a nice geometrical tool in machine learning."
   ]
  },
  {
   "cell_type": "markdown",
   "metadata": {},
   "source": [
    "In this class, you will need to install the package ``POT``:\n",
    "* Install with pip: ```bash pip install pot```\n",
    "* Install with conda: ```bash conda install -c conda-forge pot ```"
   ]
  },
  {
   "cell_type": "code",
   "execution_count": null,
   "metadata": {},
   "outputs": [],
   "source": [
    "import numpy as np\n",
    "import matplotlib.pyplot as plt\n",
    "from matplotlib.pyplot import imread\n",
    "from mpl_toolkits.mplot3d import Axes3D\n",
    "import ot"
   ]
  },
  {
   "cell_type": "markdown",
   "metadata": {},
   "source": [
    "## 1. Computational Optimal Transport: Linear Programming and Sinkhorn Algorithm"
   ]
  },
  {
   "cell_type": "markdown",
   "metadata": {},
   "source": [
    "Optimal Transport is a theory that allows us to compare two (weighted) points clouds $(X, a)$ and $(Y, b)$, where $X \\in \\mathbb{R}^{n \\times d}$ and $Y \\in \\mathbb{R}^{m \\times d}$ are the locations of the $n$ (resp. $m$) points in dimension $d$, and $a \\in \\mathbb{R}^n$, $b \\in \\mathbb{R}^m$ are the weights. We ask that the total weights sum to one, i.e. $\\sum_{i=1}^n a_i = \\sum_{j=1}^m b_j = 1$."
   ]
  },
  {
   "cell_type": "markdown",
   "metadata": {},
   "source": [
    "The basic idea of Optimal Transport is to \"transport\" the mass located at points $X$ to the mass located at points $Y$.\n",
    "\n",
    "Let us denote by $\\mathcal{U}(a,b) = \\left\\{ P \\in \\mathbb{R}^{n \\times m} \\,|\\, P \\geq 0, \\sum_{j=1}^m P_{ij} = a_i, \\sum_{i=1}^n P_{ij} = b_j\\right\\}$.\n",
    "\n",
    "If $P \\in \\mathcal{U}(a,b)$, the quantity $P_{ij} \\geq 0$ should be regarded as the mass transported from point $X_i$ to point $Y_j$. For this reason, it is called a \"transport plan\"."
   ]
  },
  {
   "cell_type": "markdown",
   "metadata": {},
   "source": [
    "For any transport plan $P \\in \\mathcal{U}(a,b)$, we define its cost $K_C(P) := \\langle C, P \\rangle = \\sum_{ij} C_{ij }P_{ij}$ where $C \\in \\mathbb{R}^{n \\times m}$. The value $C_{ij}$ should be regarded as the cost, or price, we must pay for transporting a unit of mass from point $X_i$ to point $Y_j$, and is often chosen as $C_{ij} = \\|X_i - Y_j\\|^2$."
   ]
  },
  {
   "cell_type": "markdown",
   "metadata": {},
   "source": [
    "In \"Optimal Transport\", there is the word _Optimal_. Indeed, we want to find a transport plan $P \\in \\mathcal{U}(a,b)$ that will minimize the cost $K_C$. In other words, we want to solve\n",
    "$$\n",
    "    \\min_{P \\in \\mathcal{U}(a,b)} K_C(P) = \\min_{P \\in \\mathcal{U}(a,b)} \\sum_{ij} C_{ij }P_{ij}\n",
    "$$"
   ]
  },
  {
   "cell_type": "markdown",
   "metadata": {},
   "source": [
    "This problem is a Linear Program: the objective function is linear, and the constraints are linear. We can thus solve this problem using classical Linear Programming algorithms, such as the simplex algorithm."
   ]
  },
  {
   "cell_type": "markdown",
   "metadata": {},
   "source": [
    "If $P^*$ is a solution to the Optimal Transport problem, we will say that $P^*$ is an optimal transport plan between $(X, a)$ and $(Y, b)$, and that $K_C(P^*)$ is the optimal transport distance (or Wasserstein distance) between $(X, a)$ and $(Y, b)$."
   ]
  },
  {
   "cell_type": "markdown",
   "metadata": {},
   "source": [
    "### 1.a. Computing Optimal \"Croissant\" Transport"
   ]
  },
  {
   "cell_type": "markdown",
   "metadata": {},
   "source": [
    "We will solve the Bakery/Cafés problem of transporting croissants from a number of Bakeries to Cafés in a City (In this case Manhattan). We did a quick google map search in Manhattan for bakeries and Cafés:\n",
    "\n",
    "![bak.png](https://remi.flamary.com/cours/otml/bak.png)\n",
    "\n",
    "We extracted from this search their positions and generated fictional production and sale number (that both sum to the same value).\n",
    "\n",
    "We have acess to the position of Bakeries ```bakery_pos``` and their respective production ```bakery_prod``` which describe the source distribution. The Cafés where the croissants are sold are defiend also by their position ```cafe_pos``` and ```cafe_prod```. For fun we also provide a map ```Imap``` that will illustrate the position of these shops in the city."
   ]
  },
  {
   "cell_type": "code",
   "execution_count": null,
   "metadata": {},
   "outputs": [],
   "source": [
    "# Load the data\n",
    "data = np.load('data/manhattan.npz')\n",
    "\n",
    "bakery_pos = data['bakery_pos']\n",
    "bakery_prod = data['bakery_prod']\n",
    "cafe_pos = data['cafe_pos']\n",
    "cafe_prod = data['cafe_prod']\n",
    "Imap = data['Imap']\n",
    "\n",
    "print('Bakery production: {}'.format(bakery_prod))\n",
    "print('Cafe sale: {}'.format(cafe_prod))\n",
    "print('Total croissants : {}'.format(cafe_prod.sum()))"
   ]
  },
  {
   "cell_type": "code",
   "execution_count": null,
   "metadata": {},
   "outputs": [],
   "source": [
    "plt.figure(figsize=(8,8))\n",
    "plt.imshow(Imap, interpolation='bilinear') # plot the map\n",
    "plt.scatter(bakery_pos[:,0], bakery_pos[:,1], s=5*bakery_prod, c='r', edgecolors='k', label='Bakeries')\n",
    "plt.scatter(cafe_pos[:,0], cafe_pos[:,1], s=5*cafe_prod, c='b', edgecolors='k', label='Cafés')\n",
    "plt.legend(fontsize=20)\n",
    "plt.axis('off')\n",
    "plt.title('Manhattan Bakeries and Cafés', fontsize=25);"
   ]
  },
  {
   "cell_type": "markdown",
   "metadata": {},
   "source": [
    "Let us now compute the cost matrix $C \\in \\mathbb{R}^{n \\times m}$."
   ]
  },
  {
   "cell_type": "code",
   "execution_count": null,
   "metadata": {},
   "outputs": [],
   "source": [
    "C = # TODO"
   ]
  },
  {
   "cell_type": "markdown",
   "metadata": {},
   "source": [
    "We can now compute the optimal transport plan to transport the croissants from the bakeries to the cafés, using function ``ot.emd``."
   ]
  },
  {
   "cell_type": "code",
   "execution_count": null,
   "metadata": {},
   "outputs": [],
   "source": [
    "optimal_plan = # TODO\n",
    "print(optimal_plan)\n",
    "optimal_cost = # TODO\n",
    "print(optimal_cost)"
   ]
  },
  {
   "cell_type": "code",
   "execution_count": null,
   "metadata": {},
   "outputs": [],
   "source": [
    "plt.figure(figsize=(8,8))\n",
    "plt.imshow(Imap, interpolation='bilinear')\n",
    "plt.scatter(bakery_pos[:,0], bakery_pos[:,1], s=5*bakery_prod, c='r', edgecolors='k', label='Bakeries')\n",
    "plt.scatter(cafe_pos[:,0], cafe_pos[:,1], s=5*cafe_prod, c='b', edgecolors='k', label='Cafés')\n",
    "for i in range(8):\n",
    "    for j in range(5):\n",
    "        plt.plot([bakery_pos[i,0], cafe_pos[j,0]], [bakery_pos[i,1], cafe_pos[j,1]], c='k', lw=0.1*optimal_plan[i,j], alpha=0.8)\n",
    "plt.legend(fontsize=20)\n",
    "plt.axis('off')\n",
    "plt.title('Manhattan Bakeries and Cafés', fontsize=25);"
   ]
  },
  {
   "cell_type": "markdown",
   "metadata": {},
   "source": [
    "### 1.b Entropy Regularized Optimal Transport"
   ]
  },
  {
   "cell_type": "markdown",
   "metadata": {},
   "source": [
    "In real applications, and especially in Machine Learning, we often have to deal with huge numbers of points. In this case, the linear programming algorithms which are cubic will take too much time to run.\n",
    "\n",
    "That's why, in practise, people minimize another criterion given by\n",
    "$$\n",
    "    \\min_{P \\in \\mathcal{U}(a,b)} \\langle C, P \\rangle + \\epsilon \\sum_{ij} P_{ij} [ \\log(P_{ij}) - 1].\n",
    "$$\n",
    "When $\\epsilon$ is sufficiently small, we can consider that a solution to the above problem (often refered to as \"Entropy-regularized Optimal Transport\") is a good approximation of a real optimal transport plan."
   ]
  },
  {
   "cell_type": "markdown",
   "metadata": {},
   "source": [
    "In order to solve this problem, one can remark that the optimality conditions imply that a solution $P_\\epsilon^*$ necessarily is of the form $P_\\epsilon^* = \\text{diag}(u) \\, K \\, \\text{diag}(v)$, where $K = \\exp(-C/\\epsilon)$ and $u,v$ are two non-negative vectors."
   ]
  },
  {
   "cell_type": "markdown",
   "metadata": {},
   "source": [
    "$P_\\epsilon^*$ should verify the constraints, i.e. $P_\\epsilon^* \\in \\mathcal{U}(a,b)$, so that\n",
    "$$\n",
    "    P_\\epsilon^* 1_m = a \\text{  and  } (P_\\epsilon^*)^T 1_n = b\n",
    "$$\n",
    "which can be rewritten as\n",
    "$$\n",
    "    u \\odot (Kv) = a \\text{  and  } v \\odot (K^T u) = b\n",
    "$$\n",
    "\n",
    "Then Sinkhorn's algorithm alternate between the resolution of these two equations, and reads\n",
    "$$\n",
    "    u \\leftarrow \\frac{a}{Kv} \\text{  and  } v \\leftarrow \\frac{b}{K^T u}\n",
    "$$"
   ]
  },
  {
   "cell_type": "code",
   "execution_count": null,
   "metadata": {},
   "outputs": [],
   "source": [
    "def sinkhorn(a, b, C, epsilon=0.1, max_iters=100):\n",
    "    \"\"\"Run Sinnkhorn's algorithm\"\"\"\n",
    "    \n",
    "    return # TODO"
   ]
  },
  {
   "cell_type": "markdown",
   "metadata": {},
   "source": [
    "We first show that this algorithm is consistent with classical optimal transport, using the \"croissant\" transport example."
   ]
  },
  {
   "cell_type": "code",
   "execution_count": null,
   "metadata": {},
   "outputs": [],
   "source": [
    "plan_diff = []\n",
    "distance_diff = []\n",
    "for epsilon in np.linspace(0.01, 1, 100):\n",
    "    optimal_plan_sinkhorn = sinkhorn(bakery_prod, cafe_prod, C/C.max(), epsilon)\n",
    "    optimal_cost_sinkhorn = np.sum(optimal_plan_sinkhorn*C)\n",
    "    plan_diff.append(np.linalg.norm(optimal_plan_sinkhorn-optimal_plan)/cafe_prod.sum())\n",
    "    distance_diff.append(100*np.abs(optimal_cost_sinkhorn-optimal_cost)/optimal_cost)"
   ]
  },
  {
   "cell_type": "code",
   "execution_count": null,
   "metadata": {},
   "outputs": [],
   "source": [
    "plt.figure(figsize=(16,5))\n",
    "plt.loglog(np.linspace(0.01, 1, 100), plan_diff, lw=4)\n",
    "plt.xlabel('Regularization Strength $\\epsilon$', fontsize=25)\n",
    "plt.ylabel('$||P^* - P_\\epsilon^*||$', fontsize=25)\n",
    "plt.xticks(fontsize=20)\n",
    "plt.yticks(fontsize=20)\n",
    "plt.show()"
   ]
  },
  {
   "cell_type": "code",
   "execution_count": null,
   "metadata": {},
   "outputs": [],
   "source": [
    "plt.figure(figsize=(16,5))\n",
    "plt.loglog(np.linspace(0.01, 1, 100), distance_diff, lw=4)\n",
    "plt.xlabel('Regularization Strength $\\epsilon$', fontsize=25)\n",
    "plt.ylabel('Error in %', fontsize=25)\n",
    "plt.xticks(fontsize=20)\n",
    "plt.yticks(fontsize=20)\n",
    "plt.show()"
   ]
  },
  {
   "cell_type": "markdown",
   "metadata": {},
   "source": [
    "Let us now compare the running time for sinkhorn and classical optimal transport algorithm on more data."
   ]
  },
  {
   "cell_type": "code",
   "execution_count": null,
   "metadata": {},
   "outputs": [],
   "source": [
    "n = 1000\n",
    "m = 1000\n",
    "d = 2\n",
    "\n",
    "X = np.random.randn(n,d)\n",
    "Y = np.random.randn(m,d)\n",
    "\n",
    "a = np.ones(n)\n",
    "b = np.ones(m)\n",
    "\n",
    "C = np.zeros((n,m))\n",
    "for i in range(n):\n",
    "    for j in range(n):\n",
    "        C[i,j] = np.linalg.norm(X[i] - Y[j])**2"
   ]
  },
  {
   "cell_type": "code",
   "execution_count": null,
   "metadata": {},
   "outputs": [],
   "source": [
    "%timeit ot.emd(a,b,C)"
   ]
  },
  {
   "cell_type": "code",
   "execution_count": null,
   "metadata": {},
   "outputs": [],
   "source": [
    "%timeit sinkhorn(a,b,C)"
   ]
  },
  {
   "cell_type": "markdown",
   "metadata": {},
   "source": [
    "We see that sinkhorn is faster. What is even more interesting is that sinkhorn can be parallelerized on GPUs, giving further acceleration."
   ]
  },
  {
   "cell_type": "markdown",
   "metadata": {},
   "source": [
    "## 2. Application of Optimal Transport in Machine Learning: Color Transfer"
   ]
  },
  {
   "cell_type": "markdown",
   "metadata": {},
   "source": [
    "We will now use optimal transport in color transfer. We are given two pictures, and the goal is to transfer the color of the first one to the other."
   ]
  },
  {
   "cell_type": "code",
   "execution_count": null,
   "metadata": {},
   "outputs": [],
   "source": [
    "I1 = imread('./data/klimt.jpg').astype(np.float64) / 256\n",
    "I2 = imread('./data/schiele.jpg').astype(np.float64) / 256\n",
    "\n",
    "def showImage(I,myPreferredFigsize=(8,8)):\n",
    "    plt.figure(figsize=myPreferredFigsize)\n",
    "    plt.imshow(I)\n",
    "    plt.axis('off')\n",
    "    plt.tight_layout()\n",
    "    plt.show()\n",
    "\n",
    "showImage(I1)\n",
    "showImage(I2)"
   ]
  },
  {
   "cell_type": "markdown",
   "metadata": {},
   "source": [
    "Those are two beautiful paintings of respectively Gustav Klimt and Egon Schiele. Now we will treat them as empirical distributions, in the color space."
   ]
  },
  {
   "cell_type": "code",
   "execution_count": null,
   "metadata": {},
   "outputs": [],
   "source": [
    "def im2mat(I):\n",
    "    \"\"\"Converts and image to matrix (one pixel per line)\"\"\"\n",
    "    return # TODO\n",
    "\n",
    "def mat2im(X, shape):\n",
    "    \"\"\"Converts back a matrix to an image\"\"\"\n",
    "    return # TODO\n",
    "\n",
    "X1 = im2mat(I1)\n",
    "X2 = im2mat(I2)"
   ]
  },
  {
   "cell_type": "markdown",
   "metadata": {},
   "source": [
    "We will need to plot the distributions in the color space, using the following function:"
   ]
  },
  {
   "cell_type": "code",
   "execution_count": null,
   "metadata": {},
   "outputs": [],
   "source": [
    "def showImageAsPointCloud(X, myPreferredFigsize=(8,8)):\n",
    "    fig = plt.figure(figsize=myPreferredFigsize)\n",
    "    ax = fig.add_subplot(111, projection='3d')\n",
    "    ax.set_xlim(0,1)\n",
    "    ax.scatter(X[:,0], X[:,1], X[:,2], c=X, s=50, marker='o', alpha=1.0)\n",
    "    ax.set_xlabel('R',fontsize=22)\n",
    "    ax.set_xticklabels([])\n",
    "    ax.set_ylim(0,1)\n",
    "    ax.set_ylabel('G',fontsize=22)\n",
    "    ax.set_yticklabels([])\n",
    "    ax.set_zlim(0,1)\n",
    "    ax.set_zlabel('B',fontsize=22)\n",
    "    ax.set_zticklabels([])\n",
    "    ax.grid('off')\n",
    "    plt.show()"
   ]
  },
  {
   "cell_type": "markdown",
   "metadata": {},
   "source": [
    "It is unlikely that our solver, as efficient it can be, can handle so large distributions (1Mx1M for the coupling). We will use the Mini batch k-means procedure from sklearn to subsample those distributions. Write the code that performs this subsampling (you can choose a size of 50 clusters to have a good approximation of the image).\n",
    "__Note that computing the centroids can take some time.__"
   ]
  },
  {
   "cell_type": "code",
   "execution_count": null,
   "metadata": {},
   "outputs": [],
   "source": [
    "from sklearn.cluster import KMeans\n",
    "\n",
    "nbsamples = 50\n",
    "\n",
    "kmeans1 = # TODO\n",
    "X1_sampled = # TODO\n",
    "showImageAsPointCloud(X1_sampled)\n",
    "\n",
    "\n",
    "kmeans2 = # TODO\n",
    "X2_sampled = # TODO\n",
    "showImageAsPointCloud(X2_sampled)"
   ]
  },
  {
   "cell_type": "markdown",
   "metadata": {},
   "source": [
    "Let us now compute the optimal transport plan between X1_sampled and X2_sampled using ``ot.emd``."
   ]
  },
  {
   "cell_type": "code",
   "execution_count": null,
   "metadata": {},
   "outputs": [],
   "source": [
    "C = # TODO\n",
    "optimal_transport_plan = # TODO"
   ]
  },
  {
   "cell_type": "markdown",
   "metadata": {},
   "source": [
    "Since only the centroid of clusters have changed, we need to figure out a simple way of transporting all the pixels in the original image. We will apply a simple strategy where the new value of the pixel corresponds simply to the new position of its corresponding centroid."
   ]
  },
  {
   "cell_type": "code",
   "execution_count": null,
   "metadata": {},
   "outputs": [],
   "source": [
    "X1_transformed = # TODO"
   ]
  },
  {
   "cell_type": "code",
   "execution_count": null,
   "metadata": {},
   "outputs": [],
   "source": [
    "I1_transformed = mat2im(X1_transformed, I1.shape)"
   ]
  },
  {
   "cell_type": "code",
   "execution_count": null,
   "metadata": {},
   "outputs": [],
   "source": [
    "showImage(I1)\n",
    "showImage(I1_transformed)"
   ]
  },
  {
   "cell_type": "code",
   "execution_count": null,
   "metadata": {},
   "outputs": [],
   "source": [
    "X2_transformed = # TODO"
   ]
  },
  {
   "cell_type": "code",
   "execution_count": null,
   "metadata": {},
   "outputs": [],
   "source": [
    "I2_transformed = mat2im(X2_transformed, I2.shape)"
   ]
  },
  {
   "cell_type": "code",
   "execution_count": null,
   "metadata": {},
   "outputs": [],
   "source": [
    "showImage(I2)\n",
    "showImage(I2_transformed)"
   ]
  }
 ],
 "metadata": {
  "kernelspec": {
   "display_name": "Python 3",
   "language": "python",
   "name": "python3"
  },
  "language_info": {
   "codemirror_mode": {
    "name": "ipython",
    "version": 3
   },
   "file_extension": ".py",
   "mimetype": "text/x-python",
   "name": "python",
   "nbconvert_exporter": "python",
   "pygments_lexer": "ipython3",
   "version": "3.7.1"
  }
 },
 "nbformat": 4,
 "nbformat_minor": 2
}
